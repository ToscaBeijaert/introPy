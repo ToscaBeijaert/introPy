{
 "cells": [
  {
   "cell_type": "markdown",
   "metadata": {},
   "source": [
    "# Introduction to Matplotlib (tutorial)\n",
    "This notebook gives a short introduction to *Matplotlib*, Python's most popular package for plotting. Although many different plotting packages exist in the Python ecosystem (see [this talk](https://www.youtube.com/watch?v=FytuB8nFHPQ) for an overview), Matplotlib is arguably the most versatile and flexible. Here, we will give you a short tour of Matplotlib's most important features.\n",
    "\n",
    "## Contents\n",
    "1. The state-based approach\n",
    "2. The object-oriented approach\n",
    "3. Subplots (optional)\n",
    "\n",
    "Most of the plotting functionality is contained in the subpackage `pyplot`, which is usually imported as follows:"
   ]
  },
  {
   "cell_type": "code",
   "execution_count": 1,
   "metadata": {},
   "outputs": [],
   "source": [
    "import matplotlib.pyplot as plt  # nice and short"
   ]
  },
  {
   "cell_type": "markdown",
   "metadata": {},
   "source": [
    "Somewhat confusingly, Matplotlib has two interfaces for plotting: a state-based approach that mimicks Matlab's way of plotting and a more \"Pythonic\" object-oriented approach. As Matplotlib recommends using the object-oriented approach, we will spend most time on this approach. But you'll often see the state-based approach as well, so we'll start with quickly discussing this approach."
   ]
  },
  {
   "cell_type": "markdown",
   "metadata": {},
   "source": [
    "## The state-based approach\n",
    "As mentioned, the state-based approach is a lot like the way plotting is done in Matlab: you call different *functions* that each take care of an aspect of the plot. In Matplotlib, most of these functions are contained in the `pyplot` package. Let's create simple line plot to show how the state-based approach looks like:"
   ]
  },
  {
   "cell_type": "code",
   "execution_count": 2,
   "metadata": {},
   "outputs": [
    {
     "data": {
      "image/png": "[encoded data removed]",
      "text/plain": [
       "<Figure size 432x288 with 1 Axes>"
      ]
     },
     "metadata": {
      "needs_background": "light"
     },
     "output_type": "display_data"
    }
   ],
   "source": [
    "x = [0, 1, 2, 3, 4, 5, 6]\n",
    "y = [1, 2, 3, 4, 5, 6, 7]\n",
    "\n",
    "plt.plot(x, y)  # plot the data\n",
    "plt.xlabel('x', fontsize=25)  # set the x-axis label\n",
    "plt.ylabel('y', fontsize=25)  # set the y-axis label\n",
    "plt.show()  # this actually visualizes the plot"
   ]
  },
  {
   "cell_type": "markdown",
   "metadata": {},
   "source": [
    "As you can see, the state-based approach entails a series of function calls (such as `plt.plot` and `plt.xlabel`). After you are done plotting, you just call `plt.show` and the plot will show in your notebook (or an external image viewer if you run it from a script). Note that, technically, the `plt.show` call is not necessary to render the plot in Jupyter notebooks, but we recommend doing it anyway as this is good practice.\n",
    "\n",
    "The `plt.plot` function is perhaps the most basic function, which can be used to create any plot of paired datapoints (x, y). By default, it creates a line plot (as shown above), but the many (optional) parameters in `plt.plot` allow you to create many different variations! For example, instead of a line, we can plot the data as separate red points by specifying the format in the third argument (here, 'o' to indicate points) and the color (by setting the argument `c`, for **c**olor, to \"red\"):"
   ]
  },
  {
   "cell_type": "code",
   "execution_count": 3,
   "metadata": {},
   "outputs": [
    {
     "data": {
      "image/png": "[encoded data removed]",
      "text/plain": [
       "<Figure size 432x288 with 1 Axes>"
      ]
     },
     "metadata": {
      "needs_background": "light"
     },
     "output_type": "display_data"
    }
   ],
   "source": [
    "plt.plot(x, y, 'o', c='red')\n",
    "plt.show()"
   ]
  },
  {
   "cell_type": "markdown",
   "metadata": {},
   "source": [
    "<div class='alert alert-success'>\n",
    "    <b>Tip</b>: Note that the third argument, the \"format\", may be used to specify three things at once: whether you want \"markers\" (and which type of marker), whether you want a line (and which type of line), and which color the markers/line should have. So, to create red markers, you may specify \"or\" (\"o\" for circles as markers and \"r\" for red). To create a blue line, you may specify \"-b\". To create a yellow (\"y\") dotted line (\"-.\") with stars (\"*\") as markers, you may use \"*-.y\".\n",
    "</div>"
   ]
  },
  {
   "cell_type": "markdown",
   "metadata": {},
   "source": [
    "<div class='alert alert-warning'>\n",
    "    <b>ToDo</b>: Create the same plot as above, but with a green dashed line with diamonds as markers. Check out the <a href=\"https://matplotlib.org/api/_as_gen/matplotlib.pyplot.plot.html\">plt.plot</a> documentation under \"Notes\" which particular linestyle you need for this! And check <a href=\"https://matplotlib.org/api/markers_api.html\">this page</a> to see the name of the marker for diamonds! Make sure to write your code <b>above</b> the \"<tt>ax2check = plt.gca()</tt>\" snippet &mdash; we use this to check your plot automatically in the test cell! Also, do not include a <tt>plt.show</tt> call; this is done after the <tt>ax2check</tt> line (calling <tt>plt.show</tt> before <tt>ax2check</tt> will cause to test cell to malfunction).\n",
    "</div>"
   ]
  },
  {
   "cell_type": "code",
   "execution_count": 5,
   "metadata": {
    "deletable": false,
    "nbgrader": {
     "cell_type": "code",
     "checksum": "5ba4e9944b5d0ac6e074867ae3395e9a",
     "grade": false,
     "grade_id": "cell-b92e4b8229777658",
     "locked": false,
     "schema_version": 3,
     "solution": true,
     "task": false
    },
    "tags": [
     "hide-cell"
    ]
   },
   "outputs": [
    {
     "data": {
      "image/png": "[encoded data removed]",
      "text/plain": [
       "<Figure size 432x288 with 1 Axes>"
      ]
     },
     "metadata": {
      "needs_background": "light"
     },
     "output_type": "display_data"
    }
   ],
   "source": [
    "\"\"\" Implement the ToDo here. \"\"\"\n",
    "# plt.plot(x,y,\"--gD\") # The order of the color,marker,type of line, does not matter\n",
    "plt.plot(x,y,\"--Dg\")\n",
    "# Do not remove the code below!\n",
    "ax2check = plt.gca()\n",
    "plt.show()"
   ]
  },
  {
   "cell_type": "code",
   "execution_count": 6,
   "metadata": {
    "deletable": false,
    "editable": false,
    "nbgrader": {
     "cell_type": "code",
     "checksum": "758650ad406ee2fcbd5324e5c2a9f324",
     "grade": true,
     "grade_id": "cell-2ee14e4f54b8e433",
     "locked": true,
     "points": 0,
     "schema_version": 3,
     "solution": false,
     "task": false
    }
   },
   "outputs": [
    {
     "name": "stdout",
     "output_type": "stream",
     "text": [
      "Yay! Well done.\n"
     ]
    }
   ],
   "source": [
    "\"\"\" Tests the ToDo above. \"\"\"\n",
    "line = ax2check.get_lines()[0]\n",
    "if not line._color in ['g', 'green']:\n",
    "    raise ValueError(\"The line is not green!\")\n",
    "\n",
    "if line._linestyle != '--':\n",
    "    raise ValueError(\"You didn't use a dashed line!\")\n",
    "\n",
    "if line._marker._marker != 'D':\n",
    "    raise ValueError(\"You didn't use a dashed line!\")\n",
    "\n",
    "print(\"Yay! Well done.\")"
   ]
  },
  {
   "cell_type": "markdown",
   "metadata": {},
   "source": [
    "You can also plot multiple things within a single plot! Just call the `plt.plot` (or any other plotting function) multiple times. Below, we create a new variable (`y_sq`, the values of squared) and plot it in the same plot as our regular (x, y) plot. Importantly, we will include legend with the plot showing what each line represents using `plt.legend`:"
   ]
  },
  {
   "cell_type": "code",
   "execution_count": 10,
   "metadata": {},
   "outputs": [
    {
     "name": "stdout",
     "output_type": "stream",
     "text": [
      "[1, 2, 3, 4, 5, 6, 7]\n",
      "[1, 4, 9, 16, 25, 36, 49]\n"
     ]
    },
    {
     "data": {
      "image/png": "[encoded data removed]",
      "text/plain": [
       "<Figure size 432x288 with 1 Axes>"
      ]
     },
     "metadata": {
      "needs_background": "light"
     },
     "output_type": "display_data"
    }
   ],
   "source": [
    "y_sq = [yi ** 2 for yi in y]  # check out this list comprehension!\n",
    "\n",
    "plt.plot(x, y, '*b')  # only plot markers (*) in blue\n",
    "plt.plot(x, y_sq, '^--y')  # plot both markers (^) and a line (--) in yellow\n",
    "\n",
    "# Note that the plt.legend function call should come *after* the plotting calls\n",
    "# and you should give it a *list* with strings\n",
    "plt.legend(['y', 'y squared']) # The names you give go along with the order in which you plotted the lines, thus you plotted the blue starts \n",
    "# first, thus these will get the name 'y'\n",
    "plt.show()"
   ]
  },
  {
   "cell_type": "markdown",
   "metadata": {},
   "source": [
    "<div class='alert alert-danger'>\n",
    "    <b>Warning</b>: Importantly, in the context of Jupyter notebooks, each part of the plot should be defined in the same code cell; otherwise, they won't be included in the same figure.\n",
    "</div>"
   ]
  },
  {
   "cell_type": "markdown",
   "metadata": {},
   "source": [
    "As you can see, Matplotlib automatically creates the right legend! Make sure that the order of your labels (here: `['y', 'y squared']`) matches the order of your plotting calls!"
   ]
  },
  {
   "cell_type": "markdown",
   "metadata": {},
   "source": [
    "<div class='alert alert-success'>\n",
    "    <b>Good to know</b>: If you plot multiple things in the same plot, Matplotlib will automatically choose a different color for the different things (first one is blue, second one is orange, third one is green, etc.). \n",
    "</div>"
   ]
  },
  {
   "cell_type": "markdown",
   "metadata": {},
   "source": [
    "<div class='alert alert-warning'>\n",
    "    <b>ToDo</b>: Below, we define some new variables: <tt>z</tt>, the sine of z (<tt>sin_z</tt>), and the cosine of z (<tt>cos_z</tt>). Plot both the (<tt>z</tt>, <tt>sin_z</tt>) and (<tt>z</tt>, <tt>cos_z</tt>) collections as separate dashed lines in whatever (different) colors you like. Make sure to add a legend!\n",
    "</div>"
   ]
  },
  {
   "cell_type": "code",
   "execution_count": 17,
   "metadata": {
    "deletable": false,
    "nbgrader": {
     "cell_type": "code",
     "checksum": "0bc3dc6e9c3a9a6fe5b677d07a73e240",
     "grade": false,
     "grade_id": "cell-926ed397b0cfd7b4",
     "locked": false,
     "schema_version": 3,
     "solution": true,
     "task": false
    },
    "tags": [
     "hide-cell"
    ]
   },
   "outputs": [
    {
     "data": {
      "image/png": "[encoded data removed]",
      "text/plain": [
       "<Figure size 432x288 with 1 Axes>"
      ]
     },
     "metadata": {
      "needs_background": "light"
     },
     "output_type": "display_data"
    }
   ],
   "source": [
    "\"\"\" Implement your ToDo below. \"\"\"\n",
    "import math\n",
    "z = [zi / 10 for zi in list(range(100))]\n",
    "sin_z = [math.sin(zi) for zi in z]\n",
    "cos_z = [math.cos(zi) for zi in z]\n",
    "\n",
    "plt.plot(z,sin_z, '--m')\n",
    "plt.plot(z,cos_z, '--b')\n",
    "plt.legend(['sin_z','cos_z'])\n",
    "\n",
    "\n",
    "# Do not remove the code below and implement your code *above* this snippet\n",
    "ax2check = plt.gca()\n",
    "plt.show()"
   ]
  },
  {
   "cell_type": "code",
   "execution_count": 18,
   "metadata": {
    "deletable": false,
    "editable": false,
    "nbgrader": {
     "cell_type": "code",
     "checksum": "1e4c34d84453aa6208c48b091874d362",
     "grade": true,
     "grade_id": "cell-84e7cb9e16026c9f",
     "locked": true,
     "points": 0,
     "schema_version": 3,
     "solution": false,
     "task": false
    }
   },
   "outputs": [
    {
     "name": "stdout",
     "output_type": "stream",
     "text": [
      "Good job!\n"
     ]
    }
   ],
   "source": [
    "\"\"\" Tests the ToDo above. \"\"\"\n",
    "lines = ax2check.get_lines()\n",
    "if len(lines) != 2:\n",
    "    raise ValueError(f\"I expected 2 lines but found {len(lines)}!\")\n",
    "\n",
    "leg = ax2check.get_legend()\n",
    "if leg is None:\n",
    "    raise ValueError(\"You didn't include a legend!\")\n",
    "\n",
    "n_leg = len(leg.get_lines())\n",
    "if n_leg != 2:\n",
    "    raise ValueError(\"I expected two things in the legend but found {n_leg}!\")\n",
    "    \n",
    "print(\"Good job!\")"
   ]
  },
  {
   "cell_type": "markdown",
   "metadata": {},
   "source": [
    "There are several other things that you can add to or tweak in your plot. For example, you can add a title with `plt.title` or you can change the default ticks and tick labels using `plt.xticks` (for the x-axis ticks/tick labels) and `plt.yticks` (for the y-axis ticks/tick labels). An example:"
   ]
  },
  {
   "cell_type": "code",
   "execution_count": 19,
   "metadata": {},
   "outputs": [
    {
     "data": {
      "image/png": "[encoded data removed]",
      "text/plain": [
       "<Figure size 432x288 with 1 Axes>"
      ]
     },
     "metadata": {
      "needs_background": "light"
     },
     "output_type": "display_data"
    }
   ],
   "source": [
    "plt.title(\"Plot with modified x-axis ticks and tick labels!\", fontsize=14)\n",
    "plt.plot(x, y)\n",
    "plt.xticks([0, 2, 4, 6], ['0th', '2nd', '4th', '6th'])\n",
    "plt.show()"
   ]
  },
  {
   "cell_type": "markdown",
   "metadata": {},
   "source": [
    "And you can control the range of the axes by the functions `plt.xlim` and `plt.ylim`:"
   ]
  },
  {
   "cell_type": "code",
   "execution_count": 20,
   "metadata": {},
   "outputs": [
    {
     "data": {
      "image/png": "[encoded data removed]",
      "text/plain": [
       "<Figure size 432x288 with 1 Axes>"
      ]
     },
     "metadata": {
      "needs_background": "light"
     },
     "output_type": "display_data"
    }
   ],
   "source": [
    "plt.plot(x, y)\n",
    "plt.xlim(-5, 12)\n",
    "plt.ylim(-5, 12)\n",
    "plt.show()"
   ]
  },
  {
   "cell_type": "markdown",
   "metadata": {},
   "source": [
    "### Different plot functions\n",
    "Of course, `plt.plot` is not the only plotting functions! There are many different plotting functions in Matplotlib, including scatterplots:"
   ]
  },
  {
   "cell_type": "code",
   "execution_count": 21,
   "metadata": {},
   "outputs": [
    {
     "data": {
      "image/png": "[encoded data removed]",
      "text/plain": [
       "<Figure size 432x288 with 1 Axes>"
      ]
     },
     "metadata": {
      "needs_background": "light"
     },
     "output_type": "display_data"
    }
   ],
   "source": [
    "plt.title(\"A scatterplot!\", fontsize=20)\n",
    "# Note that this is equivalent to plt.plot(x, y, 'o') !\n",
    "plt.scatter(x, y)\n",
    "plt.show()"
   ]
  },
  {
   "cell_type": "markdown",
   "metadata": {},
   "source": [
    "... and bar graphs:"
   ]
  },
  {
   "cell_type": "code",
   "execution_count": 22,
   "metadata": {},
   "outputs": [
    {
     "data": {
      "image/png": "[encoded data removed]",
      "text/plain": [
       "<Figure size 432x288 with 1 Axes>"
      ]
     },
     "metadata": {
      "needs_background": "light"
     },
     "output_type": "display_data"
    }
   ],
   "source": [
    "# First argument determines the location of the bars on the x-axis\n",
    "# and the second argument determines the height of the bars\n",
    "plt.bar(x, x)\n",
    "plt.show()"
   ]
  },
  {
   "cell_type": "markdown",
   "metadata": {},
   "source": [
    "... and histograms:"
   ]
  },
  {
   "cell_type": "code",
   "execution_count": 23,
   "metadata": {},
   "outputs": [
    {
     "data": {
      "image/png": "[encoded data removed]",
      "text/plain": [
       "<Figure size 432x288 with 1 Axes>"
      ]
     },
     "metadata": {
      "needs_background": "light"
     },
     "output_type": "display_data"
    }
   ],
   "source": [
    "# Let's generate some random data\n",
    "import random\n",
    "random_unif = [random.uniform(0, 1) for _ in range(100)]\n",
    "\n",
    "plt.title(\"A histogram!\", fontsize=20)\n",
    "plt.hist(random_unif)\n",
    "plt.xlabel(\"Value\", fontsize=15)\n",
    "plt.ylabel(\"Frequency\", fontsize=15)\n",
    "plt.show()"
   ]
  },
  {
   "cell_type": "markdown",
   "metadata": {},
   "source": [
    "<div class='alert alert-warning'>\n",
    "    <b>ToDo</b>: Below, we again simulate some random data, but this time not from a uniform distribution, but from a normal distribution (with mean 0.5 and a standard deviation of 0.15). Plot both the uniform data (<tt>random_unif</tt>) and the normal data (<tt>random_norm</tt>) in the same plot, but with different colors (doesn't matter which). Make sure to use 10 bins for each histogram and make sure they are slightly transparent by setting the \"alpha\" level to 0.5 in both. Also, make sure the ticks and xtick labels are spaced 0.1 apart (i.e., a tick and label at 0, at 0.1, ..., until 1.0). And add a legend! To find out how to set the number of bins and the alpha level, check out the <a href=\"https://matplotlib.org/3.1.1/api/_as_gen/matplotlib.pyplot.hist.html\">documentation</a>!\n",
    "</div>"
   ]
  },
  {
   "cell_type": "code",
   "execution_count": 85,
   "metadata": {
    "deletable": false,
    "nbgrader": {
     "cell_type": "code",
     "checksum": "dfc9f64c2fd37318c0d6e36dff7a3dcb",
     "grade": false,
     "grade_id": "cell-01d2dcba63535062",
     "locked": false,
     "schema_version": 3,
     "solution": true,
     "task": false
    },
    "tags": [
     "hide-cell"
    ]
   },
   "outputs": [
    {
     "data": {
      "image/png": "[encoded data removed]",
      "text/plain": [
       "<Figure size 432x288 with 1 Axes>"
      ]
     },
     "metadata": {
      "needs_background": "light"
     },
     "output_type": "display_data"
    }
   ],
   "source": [
    "\"\"\" Implement the ToDo here! \"\"\"\n",
    "import numpy as np\n",
    "random_norm = [random.normalvariate(0.5, 0.15) for _ in range(100)]\n",
    "n= 10\n",
    "plt.title('Mixed Plot', fontsize=20)\n",
    "plt.hist(random_unif,alpha = 0.5, bins = n)\n",
    "plt.hist(random_norm, alpha = 0.5, bins = n)\n",
    "plt.xlabel(\"Value\", fontsize=15)\n",
    "plt.ylabel(\"Frequency\", fontsize=15)\n",
    "plt.xticks([i / 10 for i in list(range(11))]) # You could also do np.arange(0, 1.1, 0.1)\n",
    "\n",
    "plt.legend(['Radnom_Uniform', 'Random_Normal'])\n",
    "# plt.histogram\n",
    "\n",
    "# Do not remove the code below\n",
    "ax2check = plt.gca()\n",
    "plt.show()\n",
    "# ?np.arange\n",
    "# print(n)\n",
    "\n"
   ]
  },
  {
   "cell_type": "code",
   "execution_count": 86,
   "metadata": {
    "deletable": false,
    "editable": false,
    "nbgrader": {
     "cell_type": "code",
     "checksum": "a2ac2da8a92f7318ae89c3a837a1d404",
     "grade": true,
     "grade_id": "cell-545d8a139c65258a",
     "locked": true,
     "points": 0,
     "schema_version": 3,
     "solution": false,
     "task": false
    }
   },
   "outputs": [
    {
     "name": "stdout",
     "output_type": "stream",
     "text": [
      "Awesome!\n"
     ]
    }
   ],
   "source": [
    "\"\"\" Tests the ToDo above. \"\"\"\n",
    "import matplotlib\n",
    "rect = [ch for ch in ax2check.get_children() if ch.__class__ == matplotlib.patches.Rectangle]\n",
    "if len(rect) != 21:\n",
    "    raise ValueError(f\"I expected 20 bins in total (10 per histogram), but found {len(rect) - 1}!\")\n",
    "\n",
    "if rect[0]._alpha != 0.5:\n",
    "    raise ValueError(f\"The alpha level is not 0.5 (but {rect[0]._alpha})!\")\n",
    "\n",
    "leg = ax2check.get_legend()\n",
    "if leg is None:\n",
    "    raise ValueError(\"I couldn't find a legend!\")\n",
    "\n",
    "\n",
    "if len(ax2check.get_xticks()) != 11:\n",
    "    raise ValueError(\"There should be 11 x-axis ticks and labels!\")\n",
    "    \n",
    "if not all(ax2check.get_xticks() == [i / 10 for i in list(range(11))]):\n",
    "    raise ValueError(\"The x-axis ticks and tick labels are not yet correct ...\")\n",
    "\n",
    "print(\"Awesome!\")"
   ]
  },
  {
   "cell_type": "markdown",
   "metadata": {},
   "source": [
    "## The object-oriented interface\n",
    "The state-based plotting approach is easy to learn and pretty straightforward, but when you start creating more complex visualizations, you'll notice that the alternative \"object-oriented\" approach becomes easier to use. In this section, we will explain this approach by recreating some of the previous plots from the state-based section. We will also discuss some more advanced plotting techniques, such as creating subplots.\n",
    "\n",
    "Now, within the object-oriented approach, we can explain some of the more technical (but important!) concepts. One of those is that each Matplotlib plot consists of a `Figure` object and one or more `Axes` objects. Essentially, the `Figure` object represents the entire canvas that defines the, well, figure. The `Axes` object(s) contains the actual visualizations that you want to include in the `Figure` (see figure below). Importantly, there may be one *or* multiple `Axes` object within a given `Figure` (e.g., two line plots next to each other). \n",
    "\n",
    "![mpl2](https://files.realpython.com/media/fig_map.bc8c7cabd823.png)\n",
    "\n",
    "*Figure from Brad Solomon, from [https://realpython.com/python-matplotlib-guide/](https://realpython.com/python-matplotlib-guide/)*"
   ]
  },
  {
   "cell_type": "markdown",
   "metadata": {},
   "source": [
    "<div class='alert alert-danger'>\n",
    "    <b>Warning</b>: Note that an <tt>Axes</tt> object is something different than the x-axis and y-axis (\"axes\") of a plot! \n",
    "</div>"
   ]
  },
  {
   "cell_type": "markdown",
   "metadata": {},
   "source": [
    "Importantly, a `Figure` object by itself doesn't do anything. It just defines the canvas to drawn on, so to speak. `Figure` objects can be initialized using `plt.figure`, which takes several (optional) arguments like `figsize` (width and height in inches) and `dpi` (\"dots per inch\", i.e., resolution). Let's take a look:"
   ]
  },
  {
   "cell_type": "code",
   "execution_count": 87,
   "metadata": {},
   "outputs": [
    {
     "data": {
      "text/plain": [
       "<Figure size 576x288 with 0 Axes>"
      ]
     },
     "metadata": {},
     "output_type": "display_data"
    }
   ],
   "source": [
    "fig = plt.figure(figsize=(8, 4))\n",
    "plt.show()"
   ]
  },
  {
   "cell_type": "markdown",
   "metadata": {},
   "source": [
    "As you can see, nothing happens. We also need an `Axes` object! We can create this using `plt.axes`. Note that, even in the object-oriented appoach, we need the function `plt.show` to render the figure."
   ]
  },
  {
   "cell_type": "code",
   "execution_count": 88,
   "metadata": {},
   "outputs": [
    {
     "data": {
      "image/png": "[encoded data removed]",
      "text/plain": [
       "<Figure size 576x288 with 1 Axes>"
      ]
     },
     "metadata": {
      "needs_background": "light"
     },
     "output_type": "display_data"
    }
   ],
   "source": [
    "fig = plt.figure(figsize=(8, 4))\n",
    "ax = plt.axes()\n",
    "plt.show()"
   ]
  },
  {
   "cell_type": "markdown",
   "metadata": {},
   "source": [
    "Instead of creating the `Figure` and `Axes` objects separately, we highly recommend using the function `plt.subplots` to create them both at the same time. Like the name suggests, this function also allows you to create multiple subplots (across different `Axes`), which we'll discuss later. For now, we'll just use it to create a `Figure` and `Axes` object at once. Note that all arguments for creating `Figures` using `plt.figure` also work for `plt.subplots`. For example, you can give `plt.subplots` the arguments `figsize=(8, 4)` and `dpi=200` (these must be specified with keywords, however)! Check out the [full documentation] of `plt.subplots` to get an idea about the different arguments it accepts.\n",
    "\n",
    "Anyway, let's take a look: "
   ]
  },
  {
   "cell_type": "code",
   "execution_count": 90,
   "metadata": {},
   "outputs": [
    {
     "data": {
      "image/png": "[encoded data removed]",
      "text/plain": [
       "<Figure size 576x288 with 1 Axes>"
      ]
     },
     "metadata": {
      "needs_background": "light"
     },
     "output_type": "display_data"
    }
   ],
   "source": [
    "fig, ax = plt.subplots(figsize=(8, 4))\n",
    "plt.show()\n",
    "# ?plt.subplots"
   ]
  },
  {
   "cell_type": "markdown",
   "metadata": {},
   "source": [
    "Alright, great, but it's still an empty canvas! Now, we could of course plot some data using the state-based interface (e.g., `plt.plot(x, y)`). Here, however, we will use the object-oriented approach. The only difference between these two approaches is that plotting in the object-oriented approach is done through the *methods* of the `Ax` object instead of the functions from the `pyplot` module. An example:"
   ]
  },
  {
   "cell_type": "code",
   "execution_count": 91,
   "metadata": {},
   "outputs": [
    {
     "data": {
      "image/png": "[encoded data removed]",
      "text/plain": [
       "<Figure size 576x288 with 1 Axes>"
      ]
     },
     "metadata": {
      "needs_background": "light"
     },
     "output_type": "display_data"
    }
   ],
   "source": [
    "fig, ax = plt.subplots(figsize=(8, 4))\n",
    "ax.plot(x, y)  # here, `plot` is a method, not a function!\n",
    "plt.show()"
   ]
  },
  {
   "cell_type": "markdown",
   "metadata": {},
   "source": [
    "Basically all functions from the state-based interface are available as methods in the object-oriented approach. For example, to create a legend, run `ax.legend` (instead of `plt.legend`):"
   ]
  },
  {
   "cell_type": "code",
   "execution_count": 92,
   "metadata": {},
   "outputs": [
    {
     "data": {
      "image/png": "[encoded data removed]",
      "text/plain": [
       "<Figure size 576x288 with 1 Axes>"
      ]
     },
     "metadata": {
      "needs_background": "light"
     },
     "output_type": "display_data"
    }
   ],
   "source": [
    "fig, ax = plt.subplots(figsize=(8, 4))\n",
    "ax.plot(x, y)\n",
    "ax.plot(x, y_sq)\n",
    "ax.legend(['y', 'y squared'])\n",
    "plt.show()"
   ]
  },
  {
   "cell_type": "markdown",
   "metadata": {},
   "source": [
    "Some `pyplot` functions (like `plt.xlabel`), however, are prefixed with `set_` in the object-oriented interface (e.g., `ax.set_xlabel`):"
   ]
  },
  {
   "cell_type": "code",
   "execution_count": 93,
   "metadata": {},
   "outputs": [
    {
     "data": {
      "image/png": "[encoded data removed]",
      "text/plain": [
       "<Figure size 576x288 with 1 Axes>"
      ]
     },
     "metadata": {
      "needs_background": "light"
     },
     "output_type": "display_data"
    }
   ],
   "source": [
    "fig, ax = plt.subplots(figsize=(8, 4))\n",
    "ax.plot(x, y)\n",
    "ax.set_xlabel('x', fontsize=15)\n",
    "ax.set_ylabel('y', fontsize=15)\n",
    "ax.set_title(\"Some plot\", fontsize=20)\n",
    "plt.show()"
   ]
  },
  {
   "cell_type": "markdown",
   "metadata": {},
   "source": [
    "Okay, time for an exercise!"
   ]
  },
  {
   "cell_type": "markdown",
   "metadata": {},
   "source": [
    "<div class='alert alert-warning'>\n",
    "    <b>ToDo</b>: Below, using a so-called \"random walk\", we create some random numbers representing two time series. Let's pretend that this data represents the stock price of two companies (Tesla and Shell) across 100 consecutive days. Create a <tt>Figure</tt> of 12 (width) by 4 (height) inches and a single <tt>Axes</tt> onto which you plot this time series data (as lines). Label the axes appropriately and set the range of the x-axis from 1 to 100.\n",
    "</div>"
   ]
  },
  {
   "cell_type": "code",
   "execution_count": 94,
   "metadata": {
    "deletable": false,
    "nbgrader": {
     "cell_type": "code",
     "checksum": "34049be8c97c5007b95ce987f6449684",
     "grade": false,
     "grade_id": "cell-26d6937fe9f100ec",
     "locked": false,
     "schema_version": 3,
     "solution": true,
     "task": false
    },
    "tags": [
     "hide-cell"
    ]
   },
   "outputs": [
    {
     "data": {
      "image/png": "[encoded data removed]",
      "text/plain": [
       "<Figure size 864x288 with 1 Axes>"
      ]
     },
     "metadata": {
      "needs_background": "light"
     },
     "output_type": "display_data"
    }
   ],
   "source": [
    "\"\"\" Implement the ToDo here. \"\"\"\n",
    "steps1 = [random.uniform(-1, 1) for _ in range(100)]\n",
    "steps2 = [random.uniform(-1, 1) for _ in range(100)]\n",
    "\n",
    "tesla = [40 + sum(steps1[:i]) for i in range(100)]\n",
    "shell = [35 + sum(steps2[:i]) for i in range(100)]\n",
    "days = list(range(1, 101))\n",
    "\n",
    "# YOUR CODE HERE\n",
    "fig, ax = plt.subplots(figsize = (12,4))\n",
    "ax.plot(tesla, days)\n",
    "ax.plot(shell, days)\n",
    "ax.legend(['Tesla', 'Shell'])\n",
    "ax.set_xlabel('Days', fontsize=12)\n",
    "ax.set_ylabel('Stock company', fontsize=12)\n",
    "ax.set_title(\"Stock Prices over Time\", fontsize=20)\n",
    "\n",
    "\n",
    "# Do not remove the code below\n",
    "ax2check = plt.gca()\n",
    "plt.show()"
   ]
  },
  {
   "cell_type": "code",
   "execution_count": 95,
   "metadata": {
    "deletable": false,
    "editable": false,
    "nbgrader": {
     "cell_type": "code",
     "checksum": "3b63ef5a52186b9835b01a6f21746b88",
     "grade": true,
     "grade_id": "cell-df810c6e1ee843cc",
     "locked": true,
     "points": 0,
     "schema_version": 3,
     "solution": false,
     "task": false
    }
   },
   "outputs": [
    {
     "name": "stdout",
     "output_type": "stream",
     "text": [
      "YES! Well done!\n"
     ]
    }
   ],
   "source": [
    "\"\"\" Tests the above ToDo. \"\"\"\n",
    "lines = ax2check.get_lines()\n",
    "if len(lines) != 2:\n",
    "    raise ValueError(f\"I expected two lines, but I saw {len(lines)}!\")\n",
    "    \n",
    "if ax2check.get_legend() is None:\n",
    "    raise ValueError(\"There is no legend!\")\n",
    "\n",
    "if not ax2check.get_xlabel():\n",
    "    raise ValueError(\"There is no label for the x-axis!\")\n",
    "    \n",
    "if not ax2check.get_ylabel():\n",
    "    raise ValueError(\"There is no label for the y-axis!\")\n",
    "\n",
    "print(\"YES! Well done!\")"
   ]
  },
  {
   "cell_type": "markdown",
   "metadata": {},
   "source": [
    "Okay, one last thing we want to show you is how to save figures to disk! In the object-oriented interface, you can save figures using the `Figure` method `savefig` (check out its [documentation](https://matplotlib.org/api/_as_gen/matplotlib.pyplot.savefig.html)). The only mandatory argument is a filename, including an extension. The extension determines as which file type the figure is saved. If you want to save a figure as a PNG file, you can for example do the following:"
   ]
  },
  {
   "cell_type": "code",
   "execution_count": 96,
   "metadata": {},
   "outputs": [
    {
     "data": {
      "image/png": "[encoded data removed]",
      "text/plain": [
       "<Figure size 360x360 with 1 Axes>"
      ]
     },
     "metadata": {
      "needs_background": "light"
     },
     "output_type": "display_data"
    }
   ],
   "source": [
    "fig, ax = plt.subplots(figsize=(5, 5))\n",
    "ax.plot(x, y)\n",
    "plt.show()\n",
    "fig.savefig('my_awesome_figure.png')"
   ]
  },
  {
   "cell_type": "markdown",
   "metadata": {},
   "source": [
    "This actually created a new file, \"my_awesome_figure.png\", in our current directory. We can double-check this using the command `!ls`, which is some Jupyter magic that allows us to use a code cell as a terminal temporarily:"
   ]
  },
  {
   "cell_type": "code",
   "execution_count": 102,
   "metadata": {},
   "outputs": [
    {
     "name": "stdout",
     "output_type": "stream",
     "text": [
      " Volume in drive C is Acer\n",
      " Volume Serial Number is 04D1-E817\n",
      "\n",
      " Directory of C:\\Users\\tosca\\Documents\\UVA\\Research Master\\Programming in Psychological Science\\Python_Week_3_&_4\\introPy\\intropy\\tutorials\\week_1\n",
      "\n",
      "\n",
      " Directory of C:\\Users\\tosca\\Documents\\UVA\\Research Master\\Programming in Psychological Science\\Python_Week_3_&_4\\introPy\\intropy\\tutorials\\week_1\n",
      "\n"
     ]
    },
    {
     "name": "stderr",
     "output_type": "stream",
     "text": [
      "File Not Found\n"
     ]
    },
    {
     "name": "stdout",
     "output_type": "stream",
     "text": [
      "\n",
      " Directory of C:\\Users\\tosca\\Documents\\UVA\\Research Master\\Programming in Psychological Science\\Python_Week_3_&_4\\introPy\\intropy\\tutorials\\week_1\n",
      "\n",
      " Volume in drive C is Acer\n",
      " Volume Serial Number is 04D1-E817\n",
      "\n",
      " Directory of C:\\Users\\tosca\\Documents\\UVA\\Research Master\\Programming in Psychological Science\\Python_Week_3_&_4\\introPy\\intropy\\tutorials\\week_1\n",
      "\n",
      "\n",
      " Directory of C:\\Users\\tosca\\Documents\\UVA\\Research Master\\Programming in Psychological Science\\Python_Week_3_&_4\\introPy\\intropy\\tutorials\\week_1\n",
      "\n",
      "\n",
      " Directory of C:\\Users\\tosca\\Documents\\UVA\\Research Master\\Programming in Psychological Science\\Python_Week_3_&_4\\introPy\\intropy\\tutorials\\week_1\n",
      "\n",
      "\n",
      " Directory of C:\\Users\\tosca\\Documents\\UVA\\Research Master\\Programming in Psychological Science\\Python_Week_3_&_4\\introPy\\intropy\\tutorials\\week_1\n",
      "\n"
     ]
    },
    {
     "name": "stderr",
     "output_type": "stream",
     "text": [
      "File Not Found\n"
     ]
    }
   ],
   "source": [
    "# !ls #ls is not a windows command, the equivalent is dir\n",
    "!dir # this works\n",
    "%ls # this also works\n",
    "\n",
    "# % is something you put before a jupyter magic, %ls is a jupyter magic\n",
    "# ! (without %) is a special \"magic\" that runs a command in the terminal"
   ]
  },
  {
   "cell_type": "markdown",
   "metadata": {},
   "source": [
    "## Subplots (optional)\n",
    "In this optional section, we will discuss figures with \"subplots\", i.e., figures with more than one `Axes` object! The easiest way to do this is to use the `plt.subplots` function. This function accepts the arguments `ncols` and `nrows` to create a figure with multiple `Axes` next to each other (`ncols` > 1) or below each other (`nrows` > 1). For example, suppose that I want to create a figure with three plots next to each other:"
   ]
  },
  {
   "cell_type": "code",
   "execution_count": null,
   "metadata": {},
   "outputs": [],
   "source": [
    "# Note that I use the variable name \"axes\" here instead of \"ax\" like before\n",
    "# This is not necessary, but I find it helpful because it tells me this variable contains\n",
    "# more than one axis\n",
    "fig, axes = plt.subplots(ncols=3, figsize=(15, 4))\n",
    "plt.show()"
   ]
  },
  {
   "cell_type": "markdown",
   "metadata": {},
   "source": [
    "The variable `axes` is slightly different from what we've seen before. Let's check out its type:"
   ]
  },
  {
   "cell_type": "code",
   "execution_count": null,
   "metadata": {},
   "outputs": [],
   "source": [
    "type(axes)"
   ]
  },
  {
   "cell_type": "markdown",
   "metadata": {},
   "source": [
    "When you create a figure with more than one `Axes` object, the function `plt.subplots` returns a so-called *numpy* ndarray with `Axes` (\"ndarray\" stands for *N*-dimensional array). Numpy arrays are data structures that we discuss at length in the last (optional) notebook of this week. For now, you can interpret numpy arrays as (in this case) one or two-dimensional lists. To access the individual `Axes` objects from the numpy array, we can index them as if they are lists. For example:"
   ]
  },
  {
   "cell_type": "code",
   "execution_count": null,
   "metadata": {},
   "outputs": [],
   "source": [
    "first_ax = axes[0]"
   ]
  },
  {
   "cell_type": "markdown",
   "metadata": {},
   "source": [
    "Now, let's plot some stuff in our different `Axes` objects."
   ]
  },
  {
   "cell_type": "code",
   "execution_count": null,
   "metadata": {},
   "outputs": [],
   "source": [
    "fig, axes = plt.subplots(ncols=3, figsize=(15, 4))\n",
    "axes[0].plot(x, y)\n",
    "axes[1].plot(x, [yi ** 2 for yi in y])\n",
    "axes[2].plot(x, [yi ** 3 for yi in y])\n",
    "names = ['y', 'y squared', 'y cubed']\n",
    "for i, name in enumerate(names):\n",
    "    axes[i].set_title(name, fontsize=20)\n",
    "\n",
    "plt.show()"
   ]
  },
  {
   "cell_type": "markdown",
   "metadata": {},
   "source": [
    "<div class='alert alert-warning'>\n",
    "    <b>ToDo</b>: As you probably have noticed by now, if you don't explicitly give Matplotlib a range for the axes (using <tt>xlim</tt> and <tt>ylim</tt>), it will chose a suitable range itself, which results in separate ranges for the subplots in the above figure. To force the same range across subplots, set the arguments <tt>sharex</tt> and/or <tt>sharey</tt> to <tt>True</tt> in the <tt>plt.subplots</tt> call. Do this in the previous code cell to force the same range across the y-axes!\n",
    "</div>"
   ]
  },
  {
   "cell_type": "markdown",
   "metadata": {},
   "source": [
    "We can, of course, create figures with multiple columns *and* multiple rows. For example, to create a 2 by 2 grid of `Axes`, we can do the following:"
   ]
  },
  {
   "cell_type": "code",
   "execution_count": null,
   "metadata": {},
   "outputs": [],
   "source": [
    "fig, axes = plt.subplots(ncols=2, nrows=2, figsize=(5, 5))\n",
    "plt.show()"
   ]
  },
  {
   "cell_type": "markdown",
   "metadata": {},
   "source": [
    "<div class='alert alert-success'>\n",
    "    <b>Tip</b>: Sometimes, like in the figure above, subplots may overlap slightly, especially in small figures. Matplotlib has a neat function to fix this: <tt>plt.tight_layout</tt>. Try adding it to the code cell above (after the <tt>plt.subplots</tt> line but before the <tt>plt.show()</tt> line).\n",
    "</div>"
   ]
  },
  {
   "cell_type": "markdown",
   "metadata": {},
   "source": [
    "Currently, the `axes` variable is a two-dimensional numpy array (because it has both multiple columns and multiple rows). We can double-check this by checking out the `shape` attribute from the numpy array:"
   ]
  },
  {
   "cell_type": "code",
   "execution_count": null,
   "metadata": {},
   "outputs": [],
   "source": [
    "axes.shape"
   ]
  },
  {
   "cell_type": "markdown",
   "metadata": {},
   "source": [
    "Now, to access the individual `Axes` objects from this numpy array, we need two indices: one to indicate the row and one to indicate the column. For example, to get the upper left `Axes` object (i.e., first row, first column), we do:"
   ]
  },
  {
   "cell_type": "code",
   "execution_count": null,
   "metadata": {},
   "outputs": [],
   "source": [
    "upper_left_ax = axes[0, 0]"
   ]
  },
  {
   "cell_type": "markdown",
   "metadata": {},
   "source": [
    "To get the upper right `Axes` object (i.e., first row, second column), we do:"
   ]
  },
  {
   "cell_type": "code",
   "execution_count": null,
   "metadata": {},
   "outputs": [],
   "source": [
    "upper_right_ax = axes[0, 1]"
   ]
  },
  {
   "cell_type": "markdown",
   "metadata": {},
   "source": [
    "<div class='alert alert-warning'>\n",
    "    <b>ToDo</b>: Extract the lower right <tt>Axes</tt> object and store it in a variable named <tt>lower_right_ax</tt>\n",
    "</div>"
   ]
  },
  {
   "cell_type": "code",
   "execution_count": null,
   "metadata": {
    "deletable": false,
    "nbgrader": {
     "cell_type": "code",
     "checksum": "ec7f4671c744aafde490e572e385a71c",
     "grade": false,
     "grade_id": "cell-bc85850323e5ea1d",
     "locked": false,
     "schema_version": 3,
     "solution": true,
     "task": false
    },
    "tags": [
     "hide-cell"
    ]
   },
   "outputs": [],
   "source": [
    "\"\"\" Implement the ToDo here. \"\"\"\n",
    "# YOUR CODE HERE\n",
    "raise NotImplementedError()"
   ]
  },
  {
   "cell_type": "code",
   "execution_count": null,
   "metadata": {
    "deletable": false,
    "editable": false,
    "nbgrader": {
     "cell_type": "code",
     "checksum": "469e1ed428b23a40e8401e0b839387ad",
     "grade": true,
     "grade_id": "cell-76c67b58dfe6f4e9",
     "locked": true,
     "points": 0,
     "schema_version": 3,
     "solution": false,
     "task": false
    }
   },
   "outputs": [],
   "source": [
    "\"\"\" Tests the above ToDo. \"\"\"\n",
    "if lower_right_ax != axes.flatten()[-1]:\n",
    "    raise ValueError(\"That is not the correct Axes object ...\")\n",
    "\n",
    "print(\"Well done!\")"
   ]
  },
  {
   "cell_type": "markdown",
   "metadata": {},
   "source": [
    "Alright, there is not much more to subplots that we explained here! Let's finish with a difficult exercise for those that want a challenge. From trigonometry, you may remember we can how to create a sine wave with a particular amplitude and frequency. Below, we included a function, `create_sine_wave`, which takes in a list of timepoints, a desired frequecy, and a desired amplitude:"
   ]
  },
  {
   "cell_type": "code",
   "execution_count": null,
   "metadata": {},
   "outputs": [],
   "source": [
    "def create_sine_wave(timepoints, frequency=1, amplitude=1):\n",
    "    \"\"\" Creates a sine wave with a given frequency and amplitude for a given set of timepoints. \n",
    "    \n",
    "    Parameters\n",
    "    ----------\n",
    "    timepoints : list\n",
    "        A list with timepoints (assumed to be in seconds)\n",
    "    frequency : int/float\n",
    "        Desired frequency (in Hz.)\n",
    "    amplitude : int/float\n",
    "        Desired amplitude (arbitrary units)\n",
    "        \n",
    "    Returns\n",
    "    -------\n",
    "    sine : list\n",
    "        A list with floats representing the sine wave\n",
    "    \"\"\"\n",
    "    sine = [amplitude * math.sin(2 * math.pi * frequency * t) for t in timepoints]\n",
    "    return sine"
   ]
  },
  {
   "cell_type": "markdown",
   "metadata": {},
   "source": [
    "Given some timepoints, we can plot its corresponding sine wave:"
   ]
  },
  {
   "cell_type": "code",
   "execution_count": null,
   "metadata": {},
   "outputs": [],
   "source": [
    "timepoints = [i / 100 for i in range(500)]\n",
    "sine = create_sine_wave(timepoints)\n",
    "\n",
    "fig, ax = plt.subplots(figsize=(8, 2))\n",
    "ax.plot(timepoints, sine)\n",
    "ax.set_xlabel(\"Time\")\n",
    "ax.set_ylabel(\"sin(x)\")\n",
    "ax.set_xlim(0, max(timepoints))\n",
    "plt.show()"
   ]
  },
  {
   "cell_type": "markdown",
   "metadata": {},
   "source": [
    "We already created a quite complicated figure with 9 subplots (3 rows, 3 columns), which shows a sine wave with increasing frequencies (1, 3, 5) across columns and increasing amplitudes across rows (1, 2, 4). We'll show this figure below:"
   ]
  },
  {
   "cell_type": "markdown",
   "metadata": {},
   "source": [
    "![sines](solution_sine_wave_plot.png)"
   ]
  },
  {
   "cell_type": "markdown",
   "metadata": {},
   "source": [
    "<div class='alert alert-warning'>\n",
    "    <b>ToDo</b>: Try to recreate the figure above with your own code! Use a <tt>figsize</tt> of (10, 10). Good luck! (No test cell)\n",
    "</div>"
   ]
  },
  {
   "cell_type": "code",
   "execution_count": null,
   "metadata": {
    "deletable": false,
    "nbgrader": {
     "cell_type": "code",
     "checksum": "0e8172cf30777f5f026857c015aa401b",
     "grade": false,
     "grade_id": "cell-30bc84ade86a2949",
     "locked": false,
     "schema_version": 3,
     "solution": true,
     "task": false
    },
    "tags": [
     "hide-cell"
    ]
   },
   "outputs": [],
   "source": [
    "\"\"\" Implement your ToDo here. \"\"\"\n",
    "# YOUR CODE HERE\n",
    "raise NotImplementedError()"
   ]
  }
 ],
 "metadata": {
  "kernelspec": {
   "display_name": "Python 3",
   "language": "python",
   "name": "python3"
  },
  "language_info": {
   "codemirror_mode": {
    "name": "ipython",
    "version": 3
   },
   "file_extension": ".py",
   "mimetype": "text/x-python",
   "name": "python",
   "nbconvert_exporter": "python",
   "pygments_lexer": "ipython3",
   "version": "3.8.5"
  },
  "toc": {
   "base_numbering": 1,
   "nav_menu": {},
   "number_sections": true,
   "sideBar": true,
   "skip_h1_title": true,
   "title_cell": "Table of Contents",
   "title_sidebar": "Contents",
   "toc_cell": false,
   "toc_position": {},
   "toc_section_display": true,
   "toc_window_display": false
  }
 },
 "nbformat": 4,
 "nbformat_minor": 4
}
